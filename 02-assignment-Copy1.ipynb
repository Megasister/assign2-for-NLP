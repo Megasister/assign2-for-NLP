{
  "nbformat": 4,
  "nbformat_minor": 0,
  "metadata": {
    "accelerator": "GPU",
    "anaconda-cloud": {},
    "colab": {
      "name": "word-similarity.ipynb",
      "provenance": [],
      "collapsed_sections": []
    },
    "kernelspec": {
      "display_name": "Python 3",
      "language": "python",
      "name": "python3"
    },
    "language_info": {
      "codemirror_mode": {
        "name": "ipython",
        "version": 3
      },
      "file_extension": ".py",
      "mimetype": "text/x-python",
      "name": "python",
      "nbconvert_exporter": "python",
      "pygments_lexer": "ipython3",
      "version": "3.7.6"
    }
  },
  "cells": [
    {
      "cell_type": "markdown",
      "metadata": {
        "colab_type": "text",
        "id": "W_oI1y6-cY4d"
      },
      "source": [
        "# Homework 2: Word Similarity"
      ]
    },
    {
      "cell_type": "markdown",
      "metadata": {
        "colab_type": "text",
        "collapsed": true,
        "id": "XIBjsAqjcY4e"
      },
      "source": [
        "Student Name: \n",
        "\n",
        "Student ID:"
      ]
    },
    {
      "cell_type": "markdown",
      "metadata": {
        "colab_type": "text",
        "id": "1Huv7ALVcY4f"
      },
      "source": [
        "## General info"
      ]
    },
    {
      "cell_type": "markdown",
      "metadata": {
        "colab_type": "text",
        "id": "p07JVvoScY4g"
      },
      "source": [
        "<b>Due date</b>: Thursday, 4 June 2020 5pm\n",
        "\n",
        "<b>Submission method</b>: Canvas submission\n",
        "\n",
        "<b>Submission materials</b>: completed copy of this iPython notebook\n",
        "\n",
        "<b>Late submissions</b>: -10% per day (both week and weekend days counted)\n",
        "\n",
        "<b>Marks</b>: 10% of mark for class (with 9% on correctness + 1% on quality and efficiency of your code)\n",
        "\n",
        "**Note**: As we will be implementing neural networks in this assignment, you're encouraged to build your notebook on **colab**. See the programming exercise in workshop-07 (`10-bert.ipynb`) if you are not familiar with colab.\n",
        "\n",
        "<b>Materials</b>: See [Using Jupyter Notebook and Python page](https://canvas.lms.unimelb.edu.au/courses/17601/pages/using-jupyter-notebook-and-python?module_item_id=1678430) on Canvas (under Modules>Resources) for information on the basic setup required for this class, including an iPython notebook viewer and the python packages NLTK, Numpy, Scipy, Matplotlib, Scikit-Learn, and Gensim. In particular, if you are not using a lab computer which already has it installed, we recommend installing all the data for NLTK, since you will need various parts of it to complete this assignment. Deep learning libraries such as keras and pytorch are also allowed.  You can also use any Python built-in packages, but do not use any other 3rd party packages (the packages listed above are all fine to use); if your iPython notebook doesn't run on the marker's machine, you will lose marks. <b> You should use Python 3</b>.  \n",
        "\n",
        "To familiarize yourself with NLTK, here is a free online book:  Steven Bird, Ewan Klein, and Edward Loper (2009). <a href=http://nltk.org/book>Natural Language Processing with Python</a>. O'Reilly Media Inc. You may also consult the <a href=https://www.nltk.org/api/nltk.html>NLTK API</a>.\n",
        "\n",
        "\n",
        "\n",
        "\n",
        "<b>Evaluation</b>: Your iPython notebook should run end-to-end without any errors in a reasonable amount of time, and you must follow all instructions provided below, including specific implementation requirements and instructions for what needs to be printed (please avoid printing output we don't ask for). You should edit the sections below where requested, but leave the rest of the code as is. You should leave the output from running your code in the iPython notebook you submit, to assist with marking. The amount each section is worth is given in parenthesis after the instructions. \n",
        "\n",
        "You will be marked not only on the correctness of your methods, but also the quality and efficency of your code: in particular, you should be careful to use Python built-in functions and operators when appropriate and pick descriptive variable names that adhere to <a href=\"https://www.python.org/dev/peps/pep-0008/\">Python style requirements</a>. If you think it might be unclear what you are doing, you should comment your code to help the marker make sense of it.\n",
        "\n",
        "<b>Updates</b>: Any major changes to the assignment will be announced via Canvas. Minor changes and clarifications will be announced on the discussion board; we recommend you check it regularly.\n",
        "\n",
        "<b>Academic misconduct</b>: For most people, collaboration will form a natural part of the undertaking of this homework, and we encourge you to discuss it in general terms with other students. However, this ultimately is still an individual task, and so reuse of code or other instances of clear influence will be considered cheating. We will be checking submissions for originality and will invoke the University’s <a href=\"http://academichonesty.unimelb.edu.au/policy.html\">Academic Misconduct policy</a> where inappropriate levels of collusion or plagiarism are deemed to have taken place."
      ]
    },
    {
      "cell_type": "markdown",
      "metadata": {
        "colab_type": "text",
        "id": "wseHhYGScY4g"
      },
      "source": [
        "## Overview"
      ]
    },
    {
      "cell_type": "markdown",
      "metadata": {
        "colab_type": "text",
        "id": "wH9UvbJTcY4h"
      },
      "source": [
        "In this homework, you'll be quantifying the similarity between pairs of words of a dataset using different methods with the word co-occurrence in the Brown corpus and synset structure of WordNet. Firstly, you will preprocess the dataset to filter out the rare and ambiguous words. Secondly, you will calculate the similarity scores for pairs of words in the filtered dataset using Lin similarity, NPMI and LSA. Lastly, you will quantify how well these methods work by comparing to a human annotated gold-standard."
      ]
    },
    {
      "cell_type": "markdown",
      "metadata": {
        "colab_type": "text",
        "id": "2ptNKS9CcY4h"
      },
      "source": [
        "## 1. Preprocessing (2 marks)"
      ]
    },
    {
      "cell_type": "markdown",
      "metadata": {
        "colab_type": "text",
        "collapsed": true,
        "id": "V2OlvNAicY4i"
      },
      "source": [
        "### Question 1 (1.0 mark)\n",
        "\n",
        "<b>Instructions</b>: For this homework we will be comparing our methods against a popular dataset of word similarities called <a href=\"http://alfonseca.org/eng/research/wordsim353.html\">Similarity-353</a>. You need to first obtain this dataset, which is on Canvas (assignment 2). The file we will be using is called *set1.tab*. Make sure you save this in the same folder as the notebook.  Except for the header (which should be stripped out), the file is tab formated with the first two columns corresponding to two words, and the third column representing a human-annotated similarity between the two words. <b>You should ignore the subsequent columns</b>.\n",
        "\n",
        "Here shows the first six lines of the file:\n",
        "\n",
        "```\n",
        "Word 1\tWord 2\tHuman (mean)\t1\t2\t3\t4\t5\t6\t7\t8\t9\t10\t11\t12\t13\t\n",
        "love\tsex\t6.77\t9\t6\t8\t8\t7\t8\t8\t4\t7\t2\t6\t7\t8\t\n",
        "tiger\tcat\t7.35\t9\t7\t8\t7\t8\t9\t8.5\t5\t6\t9\t7\t5\t7\t\n",
        "tiger\ttiger\t10.00\t10\t10\t10\t10\t10\t10\t10\t10\t10\t10\t10\t10\t10\t\n",
        "book\tpaper\t7.46\t8\t8\t7\t7\t8\t9\t7\t6\t7\t8\t9\t4\t9\t\n",
        "computer\tkeyboard\t7.62\t8\t7\t9\t9\t8\t8\t7\t7\t6\t8\t10\t3\t9\t\n",
        "```\n",
        "    \n",
        "You should load this file into a Python dictionary (NOTE: in Python, tuples of strings, i.e. (\"tiger\",\"cat\") can serve as the keys of a dictionary to map to their human-annotated similarity). This dataset contains many rare words: we need to filter this dataset in order for it to be better suited to the resources we will use in this assignment. So your first goal is to filter this dataset to generate a smaller test set where you will evaluate your word similarity methods.\n",
        "\n",
        "The first filtering is based on **document frequencies** (not token frequencies) in the Brown corpus, in order to remove rare words. In this homework, **we will be treating the paragraphs of the Brown corpus as our \"documents\"**. You can iterate over them by using the `paras` method of the corpus reader. You should remove tokens that are not alphabetic. Tokens should be lower-cased and lemmatized (lemmatize function provided). Store this preprocessed data in *brown_corpus* object (it will be used for question 4 and 5 later).\n",
        "\n",
        "Now calculate document frequencies for each word type, and use this to remove from your word similarity data any word pairs where at least one of the two words has a document frequency of **$< 8$** in this corpus. You should store all the word pair and similarity mappings in your filtered test set in a dictionary called *filtered_gold_standard*.\n",
        "\n",
        "Note: the document frequency of a word denotes the number of documents that contains the word.\n",
        "\n",
        "**Task**: Filter word pairs from *set1.tab* based on document frequencies. Produce *brown_corpus*, which is a list where each element is a set of words for one paragraph (e.g. the first element in *brown_corpus* should contain all the unique word types for the first paragraph). Produce *filtered_gold_standard*, a dictionary of filtered word pairs with human similarity ratings (the dictionary should have (word1, word2) as keys, and similarity ratings as values).\n",
        "\n",
        "**Check**: Use the assertion statements in *\"For your testing\"* below for the expected *filtered_gold_standard*."
      ]
    },
    {
      "cell_type": "code",
      "metadata": {
        "colab_type": "code",
        "id": "szPlY9PIcY4j",
        "outputId": "3fdbe8cc-025d-48be-c9df-3ba84c76bfde",
        "scrolled": true,
        "colab": {
          "resources": {
            "http://localhost:8080/nbextensions/google.colab/files.js": {
              "data": "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",
              "ok": true,
              "headers": [
                [
                  "content-type",
                  "application/javascript"
                ]
              ],
              "status": 200,
              "status_text": ""
            }
          },
          "base_uri": "https://localhost:8080/",
          "height": 159
        }
      },
      "source": [
        "from google.colab import files\n",
        "uploaded = files.upload()\n",
        "\n",
        "import csv\n",
        "import nltk\n",
        "import re\n",
        "from nltk.corpus import brown\n",
        "from nltk.corpus import wordnet as wn\n",
        "\n",
        "nltk.download(\"brown\")\n",
        "nltk.download(\"wordnet\")\n",
        "\n",
        "# filtered_gold_standard stores the word pairs and their human-annotated similarity in your filtered test set\n",
        "filtered_gold_standard = {}\n",
        "\n",
        "# lemmatizer\n",
        "lemmatizer = nltk.stem.wordnet.WordNetLemmatizer()\n",
        "\n",
        "def lemmatize(word):\n",
        "    lemma = lemmatizer.lemmatize(word,'v')\n",
        "    if lemma == word:\n",
        "        lemma = lemmatizer.lemmatize(word,'n')\n",
        "    return lemma\n",
        "\n",
        "\n",
        "###\n",
        "# Your answer BEGINS HERE\n",
        "###\n",
        "\n",
        "# Read file into a dict\n",
        "fil_dic = {}\n",
        "with open('set1.tab', newline = '') as setab:                                                                                          \n",
        "    reader = csv.reader(setab, delimiter='\\t')\n",
        "    next(reader, None)\n",
        "    for game in reader:\n",
        "        fil_dic[(game[0], game[1])] = float(game[2])\n",
        "\n",
        "\n",
        "# Get alphabetical and lemmentized word into a dict for each paragraph\n",
        "# Append dict of each paragraph\n",
        "brown_corpus = []\n",
        "fb = []\n",
        "\n",
        "for para in brown.paras():\n",
        "    tokens = []\n",
        "    tk_set = set()\n",
        "    for p in para:\n",
        "        for token in p:\n",
        "            # find all alphabetical unique expressions in the paragraph\n",
        "            if token.isalpha() and token not in tk_set:\n",
        "                tokens.append(lemmatize(token.lower()))\n",
        "                tk_set.add(lemmatize(token.lower()))\n",
        "                \n",
        "    brown_corpus.append(tokens)\n",
        "    \n",
        "# Merge dicts in each paragraph into a large dict\n",
        "merge_dic = {}\n",
        "for tks in brown_corpus:\n",
        "    for key in tks:\n",
        "        try:\n",
        "            merge_dic[key] += 1\n",
        "        except:\n",
        "            merge_dic[key] = 1\n",
        "            \n",
        "            \n",
        "# Filter words pairs by the large dict\n",
        "for k, v in fil_dic.items():\n",
        "    try: \n",
        "        if merge_dic[k[0]] >= 8 and merge_dic[k[1]] >= 8:\n",
        "            filtered_gold_standard[k] = v\n",
        "    except:\n",
        "        continue\n",
        "\n",
        "        \n",
        "print(len(filtered_gold_standard))\n",
        "print(filtered_gold_standard)\n"
      ],
      "execution_count": 3,
      "outputs": [
        {
          "output_type": "display_data",
          "data": {
            "text/html": [
              "\n",
              "     <input type=\"file\" id=\"files-c6084641-c51d-450a-85d5-715c270cb10e\" name=\"files[]\" multiple disabled />\n",
              "     <output id=\"result-c6084641-c51d-450a-85d5-715c270cb10e\">\n",
              "      Upload widget is only available when the cell has been executed in the\n",
              "      current browser session. Please rerun this cell to enable.\n",
              "      </output>\n",
              "      <script src=\"/nbextensions/google.colab/files.js\"></script> "
            ],
            "text/plain": [
              "<IPython.core.display.HTML object>"
            ]
          },
          "metadata": {
            "tags": []
          }
        },
        {
          "output_type": "stream",
          "text": [
            "[nltk_data] Downloading package brown to /root/nltk_data...\n",
            "[nltk_data]   Package brown is already up-to-date!\n",
            "[nltk_data] Downloading package wordnet to /root/nltk_data...\n",
            "[nltk_data]   Package wordnet is already up-to-date!\n",
            "94\n",
            "{('love', 'sex'): 6.77, ('tiger', 'cat'): 7.35, ('tiger', 'tiger'): 10.0, ('book', 'paper'): 7.46, ('plane', 'car'): 5.77, ('train', 'car'): 6.31, ('telephone', 'communication'): 7.5, ('television', 'radio'): 6.77, ('drug', 'abuse'): 6.85, ('bread', 'butter'): 6.19, ('doctor', 'nurse'): 7.0, ('professor', 'doctor'): 6.62, ('student', 'professor'): 6.81, ('smart', 'student'): 4.62, ('smart', 'stupid'): 5.81, ('company', 'stock'): 7.08, ('stock', 'market'): 8.08, ('stock', 'phone'): 1.62, ('stock', 'egg'): 1.81, ('stock', 'live'): 3.73, ('stock', 'life'): 0.92, ('book', 'library'): 7.46, ('bank', 'money'): 8.12, ('wood', 'forest'): 7.73, ('money', 'cash'): 9.08, ('king', 'queen'): 8.58, ('bishop', 'rabbi'): 6.69, ('holy', 'sex'): 1.62, ('football', 'basketball'): 6.81, ('football', 'tennis'): 6.63, ('tennis', 'racket'): 7.56, ('law', 'lawyer'): 8.38, ('movie', 'star'): 7.38, ('movie', 'critic'): 6.73, ('movie', 'theater'): 7.92, ('space', 'chemistry'): 4.88, ('alcohol', 'chemistry'): 5.54, ('drink', 'car'): 3.04, ('drink', 'ear'): 1.31, ('drink', 'mouth'): 5.96, ('drink', 'eat'): 6.87, ('baby', 'mother'): 7.85, ('drink', 'mother'): 2.65, ('car', 'automobile'): 8.94, ('journey', 'voyage'): 9.29, ('coast', 'shore'): 9.1, ('food', 'fruit'): 7.52, ('bird', 'cock'): 7.1, ('tool', 'implement'): 6.46, ('brother', 'monk'): 6.27, ('journey', 'car'): 5.85, ('coast', 'hill'): 4.38, ('forest', 'graveyard'): 1.85, ('monk', 'slave'): 0.92, ('coast', 'forest'): 3.15, ('chord', 'smile'): 0.54, ('noon', 'string'): 0.54, ('money', 'dollar'): 8.42, ('money', 'currency'): 9.04, ('money', 'wealth'): 8.27, ('money', 'property'): 7.57, ('money', 'possession'): 7.29, ('money', 'bank'): 8.5, ('money', 'deposit'): 7.73, ('money', 'operation'): 3.31, ('tiger', 'animal'): 7.0, ('tiger', 'organism'): 4.77, ('tiger', 'zoo'): 5.87, ('psychology', 'anxiety'): 7.0, ('psychology', 'fear'): 6.85, ('psychology', 'depression'): 7.42, ('psychology', 'doctor'): 6.42, ('psychology', 'mind'): 7.69, ('psychology', 'health'): 7.23, ('psychology', 'science'): 6.71, ('psychology', 'discipline'): 5.58, ('planet', 'star'): 8.45, ('planet', 'moon'): 8.08, ('planet', 'sun'): 8.02, ('planet', 'galaxy'): 8.11, ('planet', 'space'): 7.92, ('precedent', 'example'): 5.85, ('precedent', 'information'): 3.85, ('precedent', 'law'): 6.65, ('precedent', 'collection'): 2.5, ('precedent', 'group'): 1.77, ('cup', 'coffee'): 6.58, ('cup', 'article'): 2.4, ('cup', 'object'): 3.69, ('cup', 'entity'): 2.15, ('cup', 'drink'): 7.25, ('cup', 'food'): 5.0, ('cup', 'substance'): 1.92, ('cup', 'liquid'): 5.9}\n"
          ],
          "name": "stdout"
        }
      ]
    },
    {
      "cell_type": "markdown",
      "metadata": {
        "colab_type": "text",
        "id": "JTt3T9fycY4p"
      },
      "source": [
        "<b>For your testing: </b>"
      ]
    },
    {
      "cell_type": "code",
      "metadata": {
        "colab_type": "code",
        "id": "PCkSP91lcY4q",
        "colab": {}
      },
      "source": [
        "assert(len(brown_corpus)==15667)\n",
        "assert(len(filtered_gold_standard) > 50 and len(filtered_gold_standard) < 100)\n",
        "assert(filtered_gold_standard[('love', 'sex')] == 6.77)"
      ],
      "execution_count": 0,
      "outputs": []
    },
    {
      "cell_type": "markdown",
      "metadata": {
        "colab_type": "text",
        "id": "zknFIccAcY40"
      },
      "source": [
        "### Question 2 (1.0 mark)\n",
        "\n",
        "<b>Instructions</b>: Here, you apply the second filtering. The second filtering is based on words with highly ambiguous senses and involves using the NLTK interface to WordNet. Here, you should remove any words which do not have a **single primary sense**. We define single primary sense here as either: (a) having only one sense (i.e. only one synset), or (b) where the count (as provided by the WordNet `count()` method for the lemmas associated with a synset) of the most common sense is at least 4 times larger than the next most common sense. Note that a synset can be associated with multiple lemmas. You should only consider the count of your lemma.\n",
        "\n",
        "Note: You should lowercase the lemmas of a synset when matching your word; and if there are multiple lowercased lemmas that match your word, you should sum up the count of all matching lemmas.\n",
        "\n",
        "Additionally, you should remove any words where the primary sense is **not a noun** (this information is also in the synset). Store the synset corresponding to this primary sense in a dictionary for use in the next section.\n",
        "\n",
        "Given this definition, remove the word pairs from the test set where at least one of the words does not meet the above criteria. When you have applied the two filtering steps, you should store all the word pair and similarity mappings in your filtered test set in a dictionary called *final_gold_standard*.\n",
        "\n",
        "**Task**: Filter word pairs for any words which do not have a single primary sense and aren't nouns. Produce *final_gold_standard*, a dictionary of filtered word pairs with human similarity ratings. Note: this second filtering is applied on top of the first filtering (question 1). In other words, you shouldn't consider any word pairs that have already been discarded by the first filtering in this question.\n",
        "\n",
        "**Check**: Use the assertion statements in *\"For your testing\"* for the expected *final_gold_standard*."
      ]
    },
    {
      "cell_type": "code",
      "metadata": {
        "colab_type": "code",
        "id": "W6rdnrOXcY41",
        "outputId": "0454a666-5538-4e67-bb0b-3d866955a87f",
        "scrolled": false,
        "colab": {
          "base_uri": "https://localhost:8080/",
          "height": 71
        }
      },
      "source": [
        "# final_gold_standard stores the word pairs and their human-annotated similarity in your final filtered test set\n",
        "final_gold_standard = {}\n",
        "word_primarysense = {} #a dictionary of (word, primary_sense) (used for next section); primary_sense is a synset\n",
        "\n",
        "###\n",
        "# Your answer BEGINS HERE\n",
        "###\n",
        "\n",
        "for k, v in filtered_gold_standard.items():\n",
        "    \n",
        "    # build a dictionary with synset and their count\n",
        "    syns = wn.synsets(k[0])\n",
        "    syn_dic = {}\n",
        "    for syn in syns:\n",
        "        count = 0\n",
        "        for lemma in syn.lemmas():\n",
        "            # filter all lemma with different name\n",
        "            if lemma.name() == k[0]:\n",
        "                count += lemma.count()\n",
        "        syn_dic[syn] = count\n",
        "    \n",
        "    # sort all lemma and count pairs\n",
        "    sort_dic1 = sorted(syn_dic.items(), key=lambda syn_dic: syn_dic[1], reverse=True)\n",
        "    word_primarysense[k[0]] = sort_dic1[0][0]\n",
        "    \n",
        "    syns = wn.synsets(k[1])\n",
        "    syn_dic = {}\n",
        "    for syn in syns:\n",
        "        count = 0\n",
        "        for lemma in syn.lemmas():\n",
        "            if lemma.name() == k[1]:\n",
        "                count += lemma.count()\n",
        "        syn_dic[syn] = count\n",
        "        \n",
        "    sort_dic2 = sorted(syn_dic.items(), key=lambda syn_dic: syn_dic[1], reverse=True)\n",
        "    word_primarysense[k[1]] = sort_dic2[0][0]\n",
        "    \n",
        "    # find the one satisfying the requirement.\n",
        "    if len(sort_dic1) > 1 and (sort_dic1[0][1] < 4*sort_dic1[1][1]):\n",
        "        continue\n",
        "    \n",
        "    if len(sort_dic2) > 1 and (sort_dic2[0][1] < 4*sort_dic2[1][1]):\n",
        "        continue\n",
        "    \n",
        "    final_gold_standard[k] = v\n",
        "\n",
        "###\n",
        "# Your answer ENDS HERE\n",
        "###\n",
        "\n",
        "print(len(final_gold_standard))\n",
        "print(final_gold_standard)"
      ],
      "execution_count": 7,
      "outputs": [
        {
          "output_type": "stream",
          "text": [
            "26\n",
            "{('bread', 'butter'): 6.19, ('professor', 'doctor'): 6.62, ('student', 'professor'): 6.81, ('stock', 'egg'): 1.81, ('money', 'cash'): 9.08, ('king', 'queen'): 8.58, ('bishop', 'rabbi'): 6.69, ('football', 'basketball'): 6.81, ('football', 'tennis'): 6.63, ('alcohol', 'chemistry'): 5.54, ('baby', 'mother'): 7.85, ('car', 'automobile'): 8.94, ('journey', 'voyage'): 9.29, ('coast', 'shore'): 9.1, ('brother', 'monk'): 6.27, ('journey', 'car'): 5.85, ('coast', 'hill'): 4.38, ('forest', 'graveyard'): 1.85, ('monk', 'slave'): 0.92, ('coast', 'forest'): 3.15, ('psychology', 'doctor'): 6.42, ('psychology', 'mind'): 7.69, ('psychology', 'health'): 7.23, ('psychology', 'science'): 6.71, ('planet', 'moon'): 8.08, ('planet', 'galaxy'): 8.11}\n"
          ],
          "name": "stdout"
        }
      ]
    },
    {
      "cell_type": "markdown",
      "metadata": {
        "colab_type": "text",
        "id": "cWgLNH3LcY45"
      },
      "source": [
        "<b>For your testing:</b>"
      ]
    },
    {
      "cell_type": "code",
      "metadata": {
        "colab_type": "code",
        "id": "th1NNkYZcY45",
        "colab": {}
      },
      "source": [
        "# assert(len(final_gold_standard) > 10 and len(final_gold_standard) < 40)\n",
        "assert(final_gold_standard[('professor', 'doctor')] == 6.62)"
      ],
      "execution_count": 0,
      "outputs": []
    },
    {
      "cell_type": "markdown",
      "metadata": {
        "colab_type": "text",
        "id": "CnVPXtiLcY5E"
      },
      "source": [
        "## 2. Computing word similiarity with Lin similarity, NPMI and LSA (3 marks)"
      ]
    },
    {
      "cell_type": "markdown",
      "metadata": {
        "colab_type": "text",
        "id": "rSK4x4IBcY5F"
      },
      "source": [
        "### Question 3 (1.0 mark)\n",
        "\n",
        "<b>Instructions</b>: Now you will create several dictionaries with similarity scores for pairs of words in your test set derived using the techniques discussed in class. The first of these is the Lin similarity for your word pairs using the information content of the Brown corpus, which you should calculate using the primary sense for each word derived above. You can use the built-in method included in the NLTK interface, you don't have to implement your own. \n",
        "\n",
        "When you're done, you should store the word pair and similarity mappings in a dictionary called *lin_similarities*.\n",
        "\n",
        "**Task**: Compute word pair similarity using Lin similarity for the test set. Produce *lin_similarities*, a dictionary of word pairs (keys) and computed Lin similarity scores (values).\n",
        "\n",
        "**Check**: Use the assertion statements in *\"For your testing\"* below for the expected *lin_similarities*. "
      ]
    },
    {
      "cell_type": "code",
      "metadata": {
        "colab_type": "code",
        "id": "spSqNWwbcY5G",
        "outputId": "4abe8dec-c5be-45c6-973c-05ec8421498a",
        "scrolled": true,
        "colab": {
          "base_uri": "https://localhost:8080/",
          "height": 88
        }
      },
      "source": [
        "from nltk.corpus import wordnet_ic\n",
        "nltk.download('wordnet_ic')\n",
        "\n",
        "# lin_similarities stores the word pair and Lin similarity mappings\n",
        "lin_similarities = {}\n",
        "\n",
        "###\n",
        "# Your answer BEGINS HERE\n",
        "###\n",
        "\n",
        "semcor_ic = wordnet_ic.ic('ic-semcor.dat')\n",
        "\n",
        "for pair in final_gold_standard:\n",
        "    syn_name1 = word_primarysense[pair[0]].name()\n",
        "    syn_name2 = word_primarysense[pair[1]].name()\n",
        "    sim_val = wn.synset(syn_name1).lin_similarity(wn.synset(syn_name2),semcor_ic)\n",
        "    lin_similarities[pair] = sim_val\n",
        "\n",
        "###\n",
        "# Your answer ENDS HERE\n",
        "###\n",
        "\n",
        "print(lin_similarities)"
      ],
      "execution_count": 9,
      "outputs": [
        {
          "output_type": "stream",
          "text": [
            "[nltk_data] Downloading package wordnet_ic to /root/nltk_data...\n",
            "[nltk_data]   Unzipping corpora/wordnet_ic.zip.\n",
            "{('bread', 'butter'): 0.726992234769291, ('professor', 'doctor'): 0.7770369763910114, ('student', 'professor'): 0.23953150362674094, ('stock', 'egg'): -0.0, ('money', 'cash'): 0.8137879336398085, ('king', 'queen'): 0.2046706224770807, ('bishop', 'rabbi'): 0.7522246770216547, ('football', 'basketball'): 0.7704674954719576, ('football', 'tennis'): 0.7307921720649426, ('alcohol', 'chemistry'): 0.09135314199193188, ('baby', 'mother'): 0.654948986686927, ('car', 'automobile'): 1.0, ('journey', 'voyage'): 0.8276818213211407, ('coast', 'shore'): 0.9632037579820005, ('brother', 'monk'): 0.20788439871426262, ('journey', 'car'): -0.0, ('coast', 'hill'): 0.7285879249527557, ('forest', 'graveyard'): -0.0, ('monk', 'slave'): 0.20112728495581914, ('coast', 'forest'): -0.0, ('psychology', 'doctor'): -0.0, ('psychology', 'mind'): 0.3301492601041217, ('psychology', 'health'): 0.08338132296510331, ('psychology', 'science'): 0.8124859588519519, ('planet', 'moon'): 0.12715707066005769, ('planet', 'galaxy'): -0.0}\n"
          ],
          "name": "stdout"
        }
      ]
    },
    {
      "cell_type": "markdown",
      "metadata": {
        "colab_type": "text",
        "id": "GDbnoh-qcY5I"
      },
      "source": [
        "<b>For your testing:</b>"
      ]
    },
    {
      "cell_type": "code",
      "metadata": {
        "colab_type": "code",
        "id": "yH_6wsW6cY5J",
        "colab": {}
      },
      "source": [
        "assert(lin_similarities[('professor', 'doctor')] > 0.5 and lin_similarities[('professor', 'doctor')] < 1)"
      ],
      "execution_count": 0,
      "outputs": []
    },
    {
      "cell_type": "markdown",
      "metadata": {
        "colab_type": "text",
        "id": "m7FXoMudcY5P"
      },
      "source": [
        "### Question 4 (1.0 mark)\n",
        "\n",
        "**Instructions:** Next, you will calculate Normalized PMI (NPMI) for your word pairs using word frequency derived from the Brown.\n",
        "\n",
        "PMI is defined as:\n",
        "\n",
        "\\begin{equation*}\n",
        "PMI = \\log_2\\left(\\frac{p(x,y)}{p(x)p(y)}\\right)\n",
        "\\end{equation*}\n",
        "\n",
        "where\n",
        "\n",
        "\\begin{equation*}\n",
        "p(x,y) = \\frac{\\text{Number of paragraphs with the co-occurrence of x and y}}{\\sum_i \\text{Number of word types in paragraph}_i}\n",
        "\\end{equation*}\n",
        "\n",
        "\\begin{equation*}\n",
        "p(x) = \\frac{\\text{Number of paragraphs with the occurrence of x}}{\\sum_i \\text{Number of word types in paragraph}_i}\n",
        "\\end{equation*}\n",
        "\n",
        "\\begin{equation*}\n",
        "p(y) = \\frac{\\text{Number of paragraphs with the occurrence of y}}{\\sum_i \\text{Number of word types in paragraph}_i}\n",
        "\\end{equation*}\n",
        "\n",
        "with the sum over $i$ ranging over all paragraphs. Note that there are other ways PMI could be formulated.\n",
        "\n",
        "NPMI is defined as:\n",
        "\n",
        "\\begin{equation*}\n",
        "NPMI = \\frac{PMI}{-log_2(p(x,y))} = \\frac{log_2(p(x)p(y))}{log_2(p(x,y))} - 1\n",
        "\\end{equation*}\n",
        "\n",
        "Thus, when there is no co-occurrence, NPMI is -1. NPMI is normalized between [-1, +1]. \n",
        "\n",
        "You should use the *brown_corpus* object you've created in question 1 as your corpus here. You need to use the basic method for calculating PMI introduced in class (and also in the reading) which is appropriate for any possible definition of co-occurrence (here, there is co-occurrence when a word pair appears in the same paragraph), but you should only calculate PMI for the words in your test set. You must avoid building the entire co-occurrence matrix, instead you should keeping track of the sums you need for the probabilities as you go along. \n",
        "\n",
        "When you have calculated NPMI for all the pairs, you should store the word pair and NPMI-similarity mappings in a dictionary called *NPMI_similarities*.\n",
        "\n",
        "**Task**: Compute word pair similarity using NPMI similarity for the test set. Produce *NPMI_similarities*, a dictionary of word pairs (keys) and computed NPMI similarity scores (values).\n",
        "\n",
        "**Check**: Use the assertion statements in *\"For your testing\"* below for the expected *NPMI_similarities*."
      ]
    },
    {
      "cell_type": "code",
      "metadata": {
        "colab_type": "code",
        "id": "1yoPO9BecY5Q",
        "outputId": "e5463a0d-fe83-409c-b46c-2058a549ad67",
        "scrolled": false,
        "colab": {
          "base_uri": "https://localhost:8080/",
          "height": 54
        }
      },
      "source": [
        "import math\n",
        "\n",
        "# NPMI_similarities stores the word pair and NPMI similarity mappings\n",
        "NPMI_similarities = {}\n",
        "\n",
        "###\n",
        "# Your answer BEGINS HERE\n",
        "###\n",
        "\n",
        "word_num = 0\n",
        "for para in brown_corpus:\n",
        "    word_num += len(para)\n",
        "\n",
        "for pair in final_gold_standard:\n",
        "    Nx = 0\n",
        "    Ny = 0\n",
        "    Nxy = 0\n",
        "    \n",
        "    for para in brown_corpus:\n",
        "        if pair[0] in para:\n",
        "            Nx += 1\n",
        "        if pair[1] in para:\n",
        "            Ny += 1\n",
        "        if pair[0] in para and pair[1] in para:\n",
        "            Nxy += 1\n",
        "            \n",
        "    Px = Nx/word_num\n",
        "    Py = Ny/word_num\n",
        "    Pxy = Nxy/word_num\n",
        "            \n",
        "    if Nxy == 0: \n",
        "        NPMI = -1\n",
        "    else: \n",
        "        NPMI = math.log2(Px*Py) / math.log2(Pxy) - 1\n",
        "        \n",
        "    NPMI_similarities[pair] = NPMI\n",
        "\n",
        "###\n",
        "# Your answer ENDS HERE\n",
        "###\n",
        "\n",
        "print(NPMI_similarities)"
      ],
      "execution_count": 11,
      "outputs": [
        {
          "output_type": "stream",
          "text": [
            "{('bread', 'butter'): 0.6560844757016677, ('professor', 'doctor'): -1, ('student', 'professor'): 0.5398401080836155, ('stock', 'egg'): 0.3734592156434495, ('money', 'cash'): 0.449670426983076, ('king', 'queen'): 0.42269832732999113, ('bishop', 'rabbi'): -1, ('football', 'basketball'): 0.7186188959099991, ('football', 'tennis'): -1, ('alcohol', 'chemistry'): 0.6275778417305191, ('baby', 'mother'): 0.5193733276364185, ('car', 'automobile'): 0.5473471991967662, ('journey', 'voyage'): -1, ('coast', 'shore'): 0.5898305160711814, ('brother', 'monk'): 0.4343970924690428, ('journey', 'car'): -1, ('coast', 'hill'): 0.3444853504442853, ('forest', 'graveyard'): -1, ('monk', 'slave'): -1, ('coast', 'forest'): 0.4623497256519702, ('psychology', 'doctor'): 0.465547476731216, ('psychology', 'mind'): 0.45073901608292877, ('psychology', 'health'): -1, ('psychology', 'science'): 0.594361940775401, ('planet', 'moon'): 0.6610412684504505, ('planet', 'galaxy'): -1}\n"
          ],
          "name": "stdout"
        }
      ]
    },
    {
      "cell_type": "markdown",
      "metadata": {
        "colab_type": "text",
        "id": "1uJbBXzfcY5S"
      },
      "source": [
        "<b>For your testing:</b>"
      ]
    },
    {
      "cell_type": "code",
      "metadata": {
        "colab_type": "code",
        "id": "-nhg3YOBcY5S",
        "colab": {}
      },
      "source": [
        "assert(NPMI_similarities[('professor', 'doctor')] == -1)"
      ],
      "execution_count": 0,
      "outputs": []
    },
    {
      "cell_type": "markdown",
      "metadata": {
        "colab_type": "text",
        "id": "1hfkyiBkcY5a"
      },
      "source": [
        "### Question 5 (1.0 mark)\n",
        "\n",
        "**Instructions:** Here we'll use singular value decomposition (SVD) to derive similarity scores using the Latent Semantic Analysis (LSA) method. Recall that LSA applies SVD and truncation to get a dense vector representation of a word type. To measure similarity between two words we calculate cosine similarity between the LSA vectors of the words.\n",
        "\n",
        "We'll first build a term-document frequency matrix (as before, a document is a paragraph in Brown corpus). That is, the rows corresponds to words in the vocabulary, and the columns represent the paragraphs/documents in Brown corpus. Each cell records the document frequency of a word (1 if the word appears in the document, 0 otherwise). You should use the *brown_corpus* object created in question 1 as your corpus to build the term-document frequency matrix.\n",
        "\n",
        "Given the term-document frequency matrix, we'll use `truncatedSVD` in `sklearn` to produce dense vectors of length k = 500, and then use cosine similarity to produce similarities for the word pairs in the test set.\n",
        "\n",
        "You can use the workshop's notebook on distributional similarity (``09-distributional-similarity.ipynb``) as a starting point, but note that we use term-document frequency matrix (as opposed to the tf-idf matrix in the workshop).\n",
        "\n",
        "When you are done, you should store the word pair and LSA-similarity mappings in a dictionary called *LSA_similarities*.\n",
        "\n",
        "**Task**: Compute word pair similarity using LSA. Produce *LSA_similarities*, a dictionary of word pairs (keys) and computed LSA similarity scores (values).\n",
        "\n",
        "**Check**: Use the assertion statements in *\"For your testing\"* below for the expected *LSA_similarities*. \n",
        "\n"
      ]
    },
    {
      "cell_type": "code",
      "metadata": {
        "colab_type": "code",
        "id": "5qg8WfjVcY5b",
        "outputId": "795ca7eb-0bf9-4000-bd8d-52f66a1d1e3d",
        "scrolled": false,
        "colab": {
          "base_uri": "https://localhost:8080/",
          "height": 71
        }
      },
      "source": [
        "import numpy as np\n",
        "from sklearn.decomposition import TruncatedSVD\n",
        "from scipy.sparse import csr_matrix\n",
        "from numpy.linalg import norm\n",
        "from sklearn.feature_extraction import DictVectorizer\n",
        "\n",
        "# LSA_similarities stores the word pair and LSA similarity mappings\n",
        "LSA_similarities = {}\n",
        "\n",
        "###\n",
        "# Your answer BEGINS HERE\n",
        "###\n",
        "\n",
        "# Referenced from tute 9 notebook\n",
        "def get_BOW(text):\n",
        "    BOW = {}\n",
        "    for word in text:\n",
        "        # only record the occurrance\n",
        "        BOW[word.lower()] = 1\n",
        "    return BOW\n",
        "\n",
        "texts = []\n",
        "for para in brown_corpus:\n",
        "    texts.append(get_BOW(para))\n",
        "\n",
        "#  Build LSA Matrix\n",
        "vectorizer = DictVectorizer()\n",
        "LSA_matrix = vectorizer.fit_transform(texts)\n",
        "\n",
        "# Manually build LSA\n",
        "# voc = {}\n",
        "# index = 0\n",
        "# for doc in brown_corpus:\n",
        "#     for word in doc:\n",
        "#         if word not in voc:\n",
        "#             voc[word] = index\n",
        "#             index += 1\n",
        "            \n",
        "# vocab_len = len(voc)\n",
        "# print(vocab_len)\n",
        "\n",
        "# document_len = len(brown_corpus)\n",
        "\n",
        "# LSA_matrix = np.zeros((document_len, vocab_len))\n",
        "\n",
        "# for ind_doc in range(document_len):\n",
        "#     for word in doc:\n",
        "#         LSA_matrix[ind_doc][voc[word]] += 1 \n",
        "\n",
        "# for ind_doc in range(document_len):\n",
        "#     for word in doc:\n",
        "#         if LSA_matrix[ind_doc][voc[word]] > 1:\n",
        "#             print(ind_doc, word, LSA_matrix[ind_doc][voc[word]])\n",
        "\n",
        "print(LSA_matrix.shape)\n",
        "\n",
        "# Build SVD and get low rank matrix   \n",
        "brown_matrix_transposed = csr_matrix(LSA_matrix).transpose()\n",
        "\n",
        "svd = TruncatedSVD(n_components=500)\n",
        "brown_matrix_lowrank = svd.fit_transform(brown_matrix_transposed)\n",
        "\n",
        "# calculate cosine similarity\n",
        "def cos_sim(a, b):\n",
        "    return np.dot(a, b)/(norm(a)*norm(b))\n",
        "\n",
        "\n",
        "# Get the vector for words and get cosine similarity\n",
        "for pair in final_gold_standard:\n",
        "    v1 = brown_matrix_lowrank[vectorizer.vocabulary_[pair[0]]]\n",
        "    v2 = brown_matrix_lowrank[vectorizer.vocabulary_[pair[1]]]\n",
        "    LSA_similarities[pair] = cos_sim(v1, v2)\n",
        "\n",
        "###\n",
        "# Your answer ENDS HERE\n",
        "###\n",
        "\n",
        "print(LSA_similarities)\n"
      ],
      "execution_count": 13,
      "outputs": [
        {
          "output_type": "stream",
          "text": [
            "(15667, 29130)\n",
            "{('bread', 'butter'): 0.3285108749715067, ('professor', 'doctor'): 0.050872780849280375, ('student', 'professor'): 0.2734164053273076, ('stock', 'egg'): 0.10329246261340994, ('money', 'cash'): 0.12603803910730607, ('king', 'queen'): 0.0680174257839205, ('bishop', 'rabbi'): 0.014576641751900264, ('football', 'basketball'): 0.25539824180956294, ('football', 'tennis'): 0.11784848078765714, ('alcohol', 'chemistry'): 0.07942981975231575, ('baby', 'mother'): 0.3230255293029926, ('car', 'automobile'): 0.3540604010909428, ('journey', 'voyage'): 0.08373723978293277, ('coast', 'shore'): 0.4203943012074091, ('brother', 'monk'): 0.08799469475767228, ('journey', 'car'): 0.007115513840403222, ('coast', 'hill'): 0.2195448436925594, ('forest', 'graveyard'): 0.08933161326295562, ('monk', 'slave'): -0.03749485737101509, ('coast', 'forest'): 0.13712482950054505, ('psychology', 'doctor'): 0.11284584340560462, ('psychology', 'mind'): 0.11745537329665404, ('psychology', 'health'): 0.03023301927916852, ('psychology', 'science'): 0.2770016826727794, ('planet', 'moon'): 0.4406414821942131, ('planet', 'galaxy'): 0.040698394817041725}\n"
          ],
          "name": "stdout"
        }
      ]
    },
    {
      "cell_type": "markdown",
      "metadata": {
        "colab_type": "text",
        "id": "dLtjcNgIcY5d"
      },
      "source": [
        "<b>For your testing:</b>"
      ]
    },
    {
      "cell_type": "code",
      "metadata": {
        "colab_type": "code",
        "id": "oZ0sUZbNcY5e",
        "colab": {}
      },
      "source": [
        "assert(LSA_similarities[('professor', 'doctor')] > 0 and LSA_similarities[('professor', 'doctor')] < 0.4)"
      ],
      "execution_count": 0,
      "outputs": []
    },
    {
      "cell_type": "markdown",
      "metadata": {
        "id": "uk5_ScHiY5vT",
        "colab_type": "text"
      },
      "source": [
        "## Computing word similarity with feedforward language model (3 marks)"
      ]
    },
    {
      "cell_type": "markdown",
      "metadata": {
        "id": "I6Du4idMY5vT",
        "colab_type": "text"
      },
      "source": [
        "### Question 6 (1.0 mark)\n",
        "\n",
        "**Instructions**: Here we'll build a n-gram neural language model to learn word embeddings, and compute word similarity based on the word embeddings. As before we will use the Brown corpus as training data for our language model, and the first step is to collect the vocabulary.\n",
        "\n",
        "As before, we'll treat paragraphs in the Brown corpus as our documents. The first 12K paragraphs/documents will serve as our training data, and the rest (3K+ documents) as development data. The first step towards building a language model is to collect the vocabulary, i.e. the set of unique word types in our training data. When collecting the word types, you should lowercase all words, and only keep word types that have a frequency $>= 5$. Store your vocabulary in the _vocab_ object.\n",
        "\n",
        "Note: \n",
        "  - we'll be using _$<$UNK$>$_ to represent unseen words, and so _vocab_ is initialised with the special _$<$UNK$>$_.\n",
        "  - you do not need to do any other additional preprocessing aside from the aforementioned steps (e.g. no need to remove symbols, etc)\n",
        "  - you should not use *brown_corpus* here, as you need the words in their original order (*brown_corpus* stores a set of words for each paragraph, and so do not contain word order information)\n",
        "\n",
        "**Task**: Collect a set of unique word types in the training portion (first 12K paragraphs) of the Brown corpus. Produce _vocab_, which is a set that contains all the word types.\n",
        "\n",
        "**Check**: Use the assertion statements in *\"For your testing\"* below to check the vocabulary size."
      ]
    },
    {
      "cell_type": "code",
      "metadata": {
        "colab_type": "code",
        "id": "u2HdOXvYcY5k",
        "outputId": "95792875-0167-4d7f-8e3f-9e1d3cf35330",
        "colab": {
          "base_uri": "https://localhost:8080/",
          "height": 34
        }
      },
      "source": [
        "num_train = 12000\n",
        "UNK_symbol = \"<UNK>\"\n",
        "vocab = set([UNK_symbol])\n",
        "\n",
        "###\n",
        "# Your answer BEGINS HERE\n",
        "###\n",
        "\n",
        "tf = {}\n",
        "for para in brown.paras()[:num_train]:\n",
        "    for sent in para:\n",
        "        for word in sent:\n",
        "            lw = word.lower()\n",
        "            if tf.get(lw, -1) != -1:\n",
        "                tf[lw] += 1\n",
        "                if tf[lw] >= 5: \n",
        "                    vocab.add(lw)\n",
        "            else:\n",
        "                tf[lw] = 1\n",
        "\n",
        "###\n",
        "# Your answer ENDS HERE\n",
        "###\n",
        "\n",
        "print(len(vocab))"
      ],
      "execution_count": 15,
      "outputs": [
        {
          "output_type": "stream",
          "text": [
            "12681\n"
          ],
          "name": "stdout"
        }
      ]
    },
    {
      "cell_type": "markdown",
      "metadata": {
        "id": "S2AEokzcY5vY",
        "colab_type": "text"
      },
      "source": [
        "**For your testing:**"
      ]
    },
    {
      "cell_type": "code",
      "metadata": {
        "id": "UFgw8uKRY5vZ",
        "colab_type": "code",
        "colab": {}
      },
      "source": [
        "assert(len(vocab) > 8000 and len(vocab) < 20000)"
      ],
      "execution_count": 0,
      "outputs": []
    },
    {
      "cell_type": "markdown",
      "metadata": {
        "id": "juZF9fQNY5vb",
        "colab_type": "text"
      },
      "source": [
        "### Question 7 (1.0 mark)\n",
        "\n",
        "**Instructions**: As we'll be building a trigram neural language model (based on lecture 7, page 20), the next step is to collect trigrams to construct our training data. In a trigram neural language model, for example if we have the trigram _cow eats grass_, the input to the model is the first two terms of a trigram (_cow_ and _eats_), and the language model's aim is to predict the last term of the trigram (_grass_). Your task here is to construct the training and development data for the language model. Just like the previous step, the first 12K paragraphs will serve as our training data, and the remaining 3K+ will be for development. You'll need to map words into IDs when constructing the training and development data. Any words that are not in _vocab_ should be mapped to the special _$<$UNK$>$_ symbol.\n",
        "\n",
        "As an example, given the sentence \"_a big fat hungry cow ._\", you should create the following training examples:\n",
        "\n",
        "|input|target|\n",
        "|:---:|:----:|\n",
        "|<i>a</i>, _big_|_fat_|\n",
        "|_big_, _fat_|_hungry_|\n",
        "|_fat_, _hungry_|_cow_|\n",
        "|_hungry_, _cow_|_._|\n",
        "\n",
        "\n",
        "Note:\n",
        "   - _vocab_ is a set and so does not map words into IDs. You'll need to create a word to ID mapping first based on _vocab_.\n",
        "   - A trigram should not cross sentence boundary.\n",
        "   - You should ignore sentences that have less than 3 words (as they are too short to form trigrams).\n",
        "   - We won't need special starting symbol when collecting the trigrams, as we are only interested in learning word embeddings here (and not computing probabilities of a sentence).\n",
        "\n",
        "\n",
        "**Task**: Create training and development data. The training input and target data should be stored in the <i>x_train</i> and <i>y_train</i> respectively, and development input and target data in <i>x_dev</i> and <i>y_dev</i> respectively.\n",
        "\n",
        "**Check**: Use the assertion statements in *\"For your testing\"* below for the expected shape of the outputs."
      ]
    },
    {
      "cell_type": "code",
      "metadata": {
        "id": "lldULEKlY5vc",
        "colab_type": "code",
        "colab": {
          "base_uri": "https://localhost:8080/",
          "height": 85
        },
        "outputId": "8fa3773d-e910-492e-ba01-986b1c46f8df"
      },
      "source": [
        "###\n",
        "# Your answer BEGINS HERE\n",
        "###\n",
        "\n",
        "# add id to form vocab_dic\n",
        "vocab_dic = {}\n",
        "for id, word in enumerate(vocab):\n",
        "    vocab_dic[word] = id\n",
        "\n",
        "# get id by filtering unknown and known words\n",
        "def get_id(word):\n",
        "    if word.lower() not in vocab:\n",
        "        return vocab_dic[UNK_symbol]\n",
        "    else:\n",
        "        return vocab_dic[word.lower()]\n",
        "\n",
        "# Get trigram input and ouput in lists\n",
        "def gen_data(documents):\n",
        "    X = []\n",
        "    Y = []\n",
        "    count = 0\n",
        "    for para in documents:\n",
        "        for sentence in para:\n",
        "            if len(sentence) < 3:\n",
        "                continue\n",
        "            for index in range(len(sentence) - 2):\n",
        "                x1 = get_id(sentence[index])\n",
        "                x2 = get_id(sentence[index+1])\n",
        "                y  = get_id(sentence[index+2])\n",
        "                X.append([x1, x2])\n",
        "                Y.append(y)\n",
        "    return X, Y\n",
        "            \n",
        "# Get training and developing data\n",
        "xt, yt  = gen_data(brown.paras()[:num_train])\n",
        "xd, yd  = gen_data(brown.paras()[num_train:])\n",
        "\n",
        "x_train = np.array(xt) \n",
        "y_train = np.array(yt)\n",
        "x_dev   = np.array(xd) \n",
        "y_dev   = np.array(yd)\n",
        "        \n",
        "###\n",
        "# Your answer ENDS HERE\n",
        "###\n",
        "\n",
        "print(x_train.shape)\n",
        "print(y_train.shape)\n",
        "print(x_dev.shape)\n",
        "print(y_dev.shape)"
      ],
      "execution_count": 17,
      "outputs": [
        {
          "output_type": "stream",
          "text": [
            "(872823, 2)\n",
            "(872823,)\n",
            "(174016, 2)\n",
            "(174016,)\n"
          ],
          "name": "stdout"
        }
      ]
    },
    {
      "cell_type": "markdown",
      "metadata": {
        "id": "1l9ICuX9Y5ve",
        "colab_type": "text"
      },
      "source": [
        "**For your testing:**"
      ]
    },
    {
      "cell_type": "code",
      "metadata": {
        "id": "9Lh_YxBNY5ve",
        "colab_type": "code",
        "colab": {}
      },
      "source": [
        "assert(x_train.shape[0] == y_train.shape[0])\n",
        "assert(x_dev.shape[0] == y_dev.shape[0])\n",
        "assert(x_train.shape[0] > 500000)\n",
        "assert(x_dev.shape[0] > 50000)"
      ],
      "execution_count": 0,
      "outputs": []
    },
    {
      "cell_type": "markdown",
      "metadata": {
        "id": "vi3nCQqjY5vh",
        "colab_type": "text"
      },
      "source": [
        "### Question 8 (1.0 mark)\n",
        "\n",
        "**Instructions**: Now let's build the trigram neural language model. We'll use the language model described in lecture 7 (page 20):\n",
        "\n",
        "$x' = e(x_1) \\oplus e(x_2)$\n",
        "\n",
        "$h = \\tanh(W_1 x' + b)$\n",
        "\n",
        "$y = $ softmax$(W_2 h)$\n",
        "\n",
        "where $\\oplus$ is the concatenation operation, $x_1$ and $x_2$ are the input words, $e$ is an embedding function, and $y$ is the target word. You can use either `keras` or `pytorch` for building your model.\n",
        "\n",
        "Set the dimension of the word embeddings and $h$ to 100, and train your model with 3 epochs with a batch size of 256. You will not need to tune hyper-parameters for this task.\n",
        "\n",
        "After the model is trained, use the word embeddings to compute word similarity in the test set. Store the similarity scores in a dictionary called *lm_similarities*.\n",
        "\n",
        "Note:\n",
        "  - For words in the test set that are not in your vocabulary, you should treat them as unknown words. In other words, you should use $<$UNK$>$'s embedding to represent these words.\n",
        "  - The training may take some time on CPU. You can run your notebook on colab with a GPU if you want faster training (see the programming exercise in workshop-07 if you're not familiar with colab)\n",
        "\n",
        "**Task**: Train a trigram neural language model, and use the learned word embeddings to compute word similarity. Produce *lm_similarities*, a dictionary that contains word pairs as keys and similarity scores as values."
      ]
    },
    {
      "cell_type": "code",
      "metadata": {
        "colab_type": "code",
        "id": "qlVRe-opcY5n",
        "outputId": "3e71da2e-b7ed-4a48-e67d-e3156e97062e",
        "colab": {
          "base_uri": "https://localhost:8080/",
          "height": 479
        }
      },
      "source": [
        "###\n",
        "# Your answer BEGINS HERE\n",
        "###\n",
        "\n",
        "from keras.models import Sequential\n",
        "from keras import layers\n",
        "\n",
        "lm_similarities = {}\n",
        "\n",
        "embedding_dim = 100\n",
        "\n",
        "#model definition\n",
        "model = Sequential()\n",
        "model.add(layers.Embedding(input_dim=x_train.shape[0], \n",
        "                           output_dim=embedding_dim,\n",
        "                           input_length=2))\n",
        "model.add(layers.Flatten())\n",
        "model.add(layers.Dense(100, input_dim=x_train.shape[0], activation='tanh'))\n",
        "model.add(layers.Dense(1, activation='softmax'))\n",
        "\n",
        "#since it's a binary classification problem, we use a binary cross entropy loss here\n",
        "model.compile(loss='binary_crossentropy', optimizer='adam')\n",
        "model.summary()\n",
        "\n",
        "#training\n",
        "model.fit(x_train, y_train, epochs=3, validation_data=(x_dev, y_dev), batch_size=256)\n",
        "\n",
        "embeddings = model.get_layer(index=0).get_weights()[0] #word embeddings layer\n",
        "\n",
        "for pair in final_gold_standard:\n",
        "\n",
        "  emb1 = embeddings[get_id(pair[0])]\n",
        "  emb2 = embeddings[get_id(pair[1])]\n",
        "  lm_similarities[pair] = cos_sim(emb1, emb2)\n",
        "\n",
        "###\n",
        "# Your answer ENDS HERE\n",
        "###\n",
        "\n",
        "\n",
        "print(lm_similarities)"
      ],
      "execution_count": 22,
      "outputs": [
        {
          "output_type": "stream",
          "text": [
            "Model: \"sequential_4\"\n",
            "_________________________________________________________________\n",
            "Layer (type)                 Output Shape              Param #   \n",
            "=================================================================\n",
            "embedding_4 (Embedding)      (None, 2, 100)            87282300  \n",
            "_________________________________________________________________\n",
            "flatten_4 (Flatten)          (None, 200)               0         \n",
            "_________________________________________________________________\n",
            "dense_7 (Dense)              (None, 100)               20100     \n",
            "_________________________________________________________________\n",
            "dense_8 (Dense)              (None, 1)                 101       \n",
            "=================================================================\n",
            "Total params: 87,302,501\n",
            "Trainable params: 87,302,501\n",
            "Non-trainable params: 0\n",
            "_________________________________________________________________\n"
          ],
          "name": "stdout"
        },
        {
          "output_type": "stream",
          "text": [
            "/usr/local/lib/python3.6/dist-packages/tensorflow/python/framework/indexed_slices.py:434: UserWarning: Converting sparse IndexedSlices to a dense Tensor of unknown shape. This may consume a large amount of memory.\n",
            "  \"Converting sparse IndexedSlices to a dense Tensor of unknown shape. \"\n"
          ],
          "name": "stderr"
        },
        {
          "output_type": "stream",
          "text": [
            "Train on 872823 samples, validate on 174016 samples\n",
            "Epoch 1/3\n",
            "872823/872823 [==============================] - 95s 109us/step - loss: -89113.1056 - val_loss: -86332.3967\n",
            "Epoch 2/3\n",
            "872823/872823 [==============================] - 95s 108us/step - loss: -89113.1055 - val_loss: -86332.3967\n",
            "Epoch 3/3\n",
            "872823/872823 [==============================] - 95s 109us/step - loss: -89113.1055 - val_loss: -86332.3967\n",
            "{('bread', 'butter'): -0.023079475, ('professor', 'doctor'): 0.08299811, ('student', 'professor'): -0.122486055, ('stock', 'egg'): 0.14848983, ('money', 'cash'): 0.014443317, ('king', 'queen'): 0.13746648, ('bishop', 'rabbi'): -0.17609484, ('football', 'basketball'): -0.08827028, ('football', 'tennis'): 0.01505351, ('alcohol', 'chemistry'): 0.0603486, ('baby', 'mother'): 0.02684889, ('car', 'automobile'): 0.07870243, ('journey', 'voyage'): -0.096954145, ('coast', 'shore'): -0.076330595, ('brother', 'monk'): 0.014373943, ('journey', 'car'): 0.12543593, ('coast', 'hill'): 0.05327232, ('forest', 'graveyard'): 0.015065313, ('monk', 'slave'): -0.083883256, ('coast', 'forest'): 0.051781867, ('psychology', 'doctor'): -0.00519566, ('psychology', 'mind'): 0.034505926, ('psychology', 'health'): -0.13061039, ('psychology', 'science'): -0.07643032, ('planet', 'moon'): 0.13746215, ('planet', 'galaxy'): 0.10932581}\n"
          ],
          "name": "stdout"
        }
      ]
    },
    {
      "cell_type": "markdown",
      "metadata": {
        "colab_type": "text",
        "id": "qTgtO9-pcY5q"
      },
      "source": [
        "## 3. Comparison with the Gold Standard (1 mark)"
      ]
    },
    {
      "cell_type": "markdown",
      "metadata": {
        "colab_type": "text",
        "id": "5UpgjOKmcY5r"
      },
      "source": [
        "### Question 9 (1.0 mark)\n",
        "\n",
        "**Instructions:** Finally, you should compare all the similarities you've created to the gold standard you loaded and filtered in the first step. For this, you can use the Pearson correlation co-efficient (`pearsonr`), which is included in scipy (`scipy.stats`). Be careful converting your dictionaries to lists for this purpose, the data for the two datasets needs to be in the same order for correct comparison using correlation. Write a general function, then apply it to each of the similarity score dictionaries.\n",
        "\n",
        "When you are done, you should put the result in a dictionary called *pearson_correlations* (use the keys: 'lin', 'NPMI', 'LSA', 'lm').\n",
        "\n",
        "**Task**: Compute the Pearson correlation coefficient between the estimated similarity scores (Lin, NPMI and LSA similarities) and the gold standard similarity ratings. Produce *pearson_correlations*, a dictionary containing the methods as keys and correlations as values.\n",
        "\n",
        "**Check**: Use the assertion statements in *\"For your testing\"* below for the expected *pearson_correlations*. \n",
        "\n",
        "<b>Hint:</b> All of the methods used here should be markedly above 0, but also far from 1 (perfect correlation); if you're not getting reasonable results, go back and check your code for bugs! "
      ]
    },
    {
      "cell_type": "code",
      "metadata": {
        "colab_type": "code",
        "id": "oAgJwXhxcY5r",
        "outputId": "c521b30e-0978-4bf0-8880-28b1d2d22bf3",
        "colab": {
          "base_uri": "https://localhost:8080/",
          "height": 34
        }
      },
      "source": [
        "from scipy.stats import pearsonr\n",
        "\n",
        "# pearson_correlations stores the pearson correlations with the gold standard of 'lin', 'NPMI', 'LSA', 'lm'\n",
        "pearson_correlations = {}\n",
        "\n",
        "###\n",
        "# Your answer BEGINS HERE\n",
        "###\n",
        "\n",
        "zipped = zip(final_gold_standard.items(), lin_similarities.items(),  \n",
        "             NPMI_similarities.items(), LSA_similarities.items(),\n",
        "             lm_similarities.items())\n",
        "\n",
        "fg_list = []\n",
        "lin_list = []\n",
        "np_list = []\n",
        "lsa_list = []\n",
        "lm_list = []\n",
        "\n",
        "for (kg, vg), (klin, vlin),(knp, vnp),(kls, vls), (klm, vlm) in zipped:\n",
        "    if kg == klin and kg == knp and kg == kls and kg == klm:\n",
        "        fg_list.append(vg)\n",
        "        lin_list.append(vlin)\n",
        "        np_list.append(vnp)\n",
        "        lsa_list.append(vls)\n",
        "        lm_list.append(vlm)\n",
        "    else:\n",
        "        raise ValueError('Error in dictionary order')\n",
        "\n",
        "assert(len(fg_list) == len(final_gold_standard))\n",
        "\n",
        "pearson_correlations['lin'] = pearsonr(fg_list, lin_list)[0]\n",
        "pearson_correlations['NPMI'] = pearsonr(fg_list,np_list)[0]\n",
        "pearson_correlations['LSA'] = pearsonr(fg_list, lsa_list)[0]\n",
        "pearson_correlations['lm'] = pearsonr(fg_list, lm_list)[0]\n",
        "\n",
        "###\n",
        "# Your answer ENDS HERE\n",
        "###\n",
        "\n",
        "print(pearson_correlations)"
      ],
      "execution_count": 23,
      "outputs": [
        {
          "output_type": "stream",
          "text": [
            "{'lin': 0.4804801107584077, 'NPMI': 0.18782621577450484, 'LSA': 0.36628484821017776, 'lm': -0.07216634131421953}\n"
          ],
          "name": "stdout"
        }
      ]
    },
    {
      "cell_type": "markdown",
      "metadata": {
        "colab_type": "text",
        "id": "aV6PxadqcY5v"
      },
      "source": [
        "<b>For your testing:</b>"
      ]
    },
    {
      "cell_type": "code",
      "metadata": {
        "colab_type": "code",
        "id": "q2fNHrT0cY5v",
        "colab": {}
      },
      "source": [
        "assert(pearson_correlations['lin'] > 0.4 and pearson_correlations['lin'] < 0.8)"
      ],
      "execution_count": 0,
      "outputs": []
    },
    {
      "cell_type": "markdown",
      "metadata": {
        "colab_type": "text",
        "id": "oIoExaG0cY51"
      },
      "source": [
        "## A final word\n",
        "\n",
        "Normally, we would not use a corpus as small as the Brown for the purposes of building word vectors. Also, note that filtering our test set to just words we are likely to do well on would typically be considered cheating."
      ]
    },
    {
      "cell_type": "code",
      "metadata": {
        "colab_type": "code",
        "id": "aCwCHklbcY52",
        "colab": {}
      },
      "source": [
        ""
      ],
      "execution_count": 0,
      "outputs": []
    }
  ]
}